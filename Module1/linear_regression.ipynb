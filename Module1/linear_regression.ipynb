{
 "cells": [
  {
   "cell_type": "code",
   "execution_count": null,
   "id": "c52e82e4",
   "metadata": {
    "vscode": {
     "languageId": "plaintext"
    }
   },
   "outputs": [],
   "source": [
    "# Cài gói cần thiết (nếu chạy local, bỏ dấu # ở dòng dưới)\n",
    "#!pip install -U scikit-learn\n",
    "\n",
    "# Trên môi trường JupyterLite/Pyodide dùng piplite để cài gói Python\n",
    "import piplite\n",
    "# Cài các thư viện dùng trong bài: thanh tiến độ, vẽ, xử lý dữ liệu, số học, học máy\n",
    "await piplite.install(['tqdm', 'seaborn', 'pandas', 'numpy', 'scikit-learn'])\n"
   ]
  },
  {
   "cell_type": "code",
   "execution_count": null,
   "id": "ee0ecf55",
   "metadata": {},
   "outputs": [],
   "source": [
    "# Thư viện hiển thị tiến trình\n",
    "from tqdm import tqdm\n",
    "\n",
    "# Số học, xử lý dữ liệu\n",
    "import numpy as np\n",
    "import pandas as pd\n",
    "from itertools import accumulate  # hiện chưa dùng, có thể bỏ nếu cần\n",
    "\n",
    "# Vẽ biểu đồ/khám phá dữ liệu\n",
    "import matplotlib.pyplot as plt\n",
    "import seaborn as sns\n",
    "# Hiển thị biểu đồ trực tiếp trong notebook\n",
    "%matplotlib inline\n",
    "\n",
    "# Tiền xử lý và thống kê\n",
    "from sklearn.preprocessing import StandardScaler\n",
    "from sklearn.linear_model import LogisticRegression  # nhập nhưng không dùng trong mô hình cuối\n",
    "from sklearn.datasets import load_digits, load_wine  # không dùng ở bài này\n",
    "from scipy.stats import boxcox\n",
    "from scipy.stats.mstats import normaltest\n",
    "\n",
    "# Hồi quy tuyến tính và đánh giá mô hình\n",
    "from sklearn.linear_model import LinearRegression\n",
    "from sklearn.metrics import r2_score \n",
    "from sklearn.metrics import mean_squared_error\n",
    "from sklearn.pipeline import Pipeline"
   ]
  },
  {
   "cell_type": "code",
   "execution_count": null,
   "id": "200229de",
   "metadata": {},
   "outputs": [],
   "source": [
    "# Kiểm tra phiên bản Scikit-Learn để đảm bảo tương thích\n",
    "import sklearn; print(\"Scikit-Learn\", sklearn.__version__)"
   ]
  },
  {
   "cell_type": "code",
   "execution_count": null,
   "id": "814adc06",
   "metadata": {},
   "outputs": [],
   "source": [
    "# Tắt cảnh báo để output gọn hơn (lưu ý: không nên dùng khi cần debug)\n",
    "def warn(*args, **kwargs):\n",
    "    pass\n",
    "import warnings\n",
    "warnings.warn = warn"
   ]
  },
  {
   "cell_type": "code",
   "execution_count": null,
   "id": "8d853913",
   "metadata": {},
   "outputs": [],
   "source": [
    "# Tải dữ liệu trong môi trường Pyodide bằng pyfetch (bất đồng bộ)\n",
    "from pyodide.http import pyfetch\n",
    " \n",
    "async def download(url, filename):\n",
    "    response = await pyfetch(url)\n",
    "    if response.status == 200:\n",
    "        with open(filename, \"wb\") as f:\n",
    "            f.write(await response.bytes())\n",
    " \n",
    "# Đường dẫn tệp dữ liệu trên cloud\n",
    "path = \"https://cf-courses-data.s3.us.cloud-object-storage.appdomain.cloud/IBM-ML240EN-SkillsNetwork/labs/data/CarPrice_Assignment.csv\"\n",
    " \n",
    "# Nếu chạy local và đã có file, có thể bỏ qua dòng dưới\n",
    "await download(path, \"CarPrice_Assignment.csv\")"
   ]
  },
  {
   "cell_type": "code",
   "execution_count": null,
   "id": "fad43cdc",
   "metadata": {},
   "outputs": [],
   "source": [
    "# Đọc file CSV đã tải vào DataFrame\n",
    "import pandas as pd\n",
    "\n",
    "data = pd.read_csv(\"CarPrice_Assignment.csv\")\n",
    "\n",
    "# Xem nhanh 5 dòng đầu để nắm cấu trúc dữ liệu\n",
    "print(\"The first 5 rows of the dataframe\")\n",
    "data.head(5)"
   ]
  },
  {
   "cell_type": "code",
   "execution_count": null,
   "id": "ae25deef",
   "metadata": {},
   "outputs": [],
   "source": [
    "# Thông tin kiểu dữ liệu, số lượng non-null của từng cột\n",
    "data.info()"
   ]
  },
  {
   "cell_type": "code",
   "execution_count": null,
   "id": "5d5b3027",
   "metadata": {},
   "outputs": [],
   "source": [
    "# Kiểm tra tổng số giá trị thiếu theo từng cột\n",
    "data.isnull().sum()"
   ]
  },
  {
   "cell_type": "code",
   "execution_count": null,
   "id": "b4ea6b2f",
   "metadata": {},
   "outputs": [],
   "source": [
    "# Kiểm tra trùng lặp theo khóa 'car_ID' (True nghĩa là không có bản ghi trùng)\n",
    "sum(data.duplicated(subset = 'car_ID')) == 0"
   ]
  },
  {
   "cell_type": "code",
   "execution_count": null,
   "id": "b868c070",
   "metadata": {},
   "outputs": [],
   "source": [
    "# Liệt kê các giá trị hãng xe trong cột tên để chuẩn hóa sau này\n",
    "data[\"CarName\"].unique()"
   ]
  },
  {
   "cell_type": "code",
   "execution_count": null,
   "id": "cbbfad6e",
   "metadata": {},
   "outputs": [],
   "source": [
    "# Tách hãng xe (brand) từ cột tên xe: lấy từ đầu tiên và chuyển thành chữ thường\n",
    "data['brand'] = data.CarName.str.split(' ').str.get(0).str.lower()"
   ]
  },
  {
   "cell_type": "code",
   "execution_count": null,
   "id": "265e1dd8",
   "metadata": {},
   "outputs": [],
   "source": [
    "# Kiểm tra danh sách hãng sau khi tách để xem có lỗi chính tả\n",
    "data.brand.unique()"
   ]
  },
  {
   "cell_type": "code",
   "execution_count": null,
   "id": "aec734bd",
   "metadata": {},
   "outputs": [],
   "source": [
    "# Chuẩn hóa lỗi chính tả/biến thể tên hãng để gộp đúng thương hiệu\n",
    "data['brand'] = data['brand'].replace(['vw', 'vokswagen'], 'volkswagen')\n",
    "data['brand'] = data['brand'].replace(['maxda'], 'mazda')\n",
    "data['brand'] = data['brand'].replace(['porcshce'], 'porsche')\n",
    "data['brand'] = data['brand'].replace(['toyouta'], 'toyota')"
   ]
  },
  {
   "cell_type": "code",
   "execution_count": null,
   "id": "e9792436",
   "metadata": {},
   "outputs": [],
   "source": [
    "# Kiểm tra lại danh sách hãng sau chuẩn hóa\n",
    "data.brand.unique()"
   ]
  },
  {
   "cell_type": "code",
   "execution_count": null,
   "id": "fefc0ea6",
   "metadata": {},
   "outputs": [],
   "source": [
    "# Biểu đồ tần suất theo hãng xe để xem phân bố nhãn danh mục\n",
    "fig, ax = plt.subplots(figsize = (15,5))\n",
    "plt1 = sns.countplot(x=data['brand'], order=pd.value_counts(data['brand']).index)\n",
    "plt1.set(xlabel = 'Brand', ylabel= 'Count of Cars')\n",
    "plt.show()\n",
    "plt.tight_layout()"
   ]
  },
  {
   "cell_type": "code",
   "execution_count": null,
   "id": "22a5d003",
   "metadata": {},
   "outputs": [],
   "source": [
    "# Loại bỏ cột không cần thiết cho mô hình\n",
    "# - 'car_ID': chỉ là định danh\n",
    "# - 'symboling': điểm số liên quan rủi ro bảo hiểm, không dùng ở đây\n",
    "# - 'CarName': đã tách brand nên không cần\n",
    "data.drop(['car_ID', 'symboling', 'CarName'],axis = 1, inplace = True)"
   ]
  },
  {
   "cell_type": "code",
   "execution_count": null,
   "id": "116c7b24",
   "metadata": {},
   "outputs": [],
   "source": [
    "# Thăm dò nhanh một vài biến danh mục để xác định giá trị hợp lệ\n",
    "data.fueltype.unique()\n",
    "data[\"enginelocation\"].value_counts()"
   ]
  },
  {
   "cell_type": "code",
   "execution_count": null,
   "id": "69b628cc",
   "metadata": {},
   "outputs": [],
   "source": [
    "# Tính giá trung bình theo hãng để phân nhóm phân khúc thương hiệu\n",
    "data_comp_avg_price = data[['brand','price']].groupby('brand', as_index = False).mean().rename(columns={'price':'brand_avg_price'})\n"
   ]
  },
  {
   "cell_type": "code",
   "execution_count": null,
   "id": "f84aec74",
   "metadata": {},
   "outputs": [],
   "source": [
    "# Gộp giá trung bình theo hãng vào bộ dữ liệu chính\n",
    "data = data.merge(data_comp_avg_price, on = 'brand')"
   ]
  },
  {
   "cell_type": "code",
   "execution_count": null,
   "id": "0ab4f66d",
   "metadata": {},
   "outputs": [],
   "source": [
    "# Thống kê mô tả cho cột giá trung bình theo hãng\n",
    "data.brand_avg_price.describe()"
   ]
  },
  {
   "cell_type": "code",
   "execution_count": null,
   "id": "b081575f",
   "metadata": {},
   "outputs": [],
   "source": [
    "# Phân loại hãng theo mức giá trung bình: Budget / Mid_Range / Luxury\n",
    "data['brand_category'] = data['brand_avg_price'].apply(lambda x : \"Budget\" if x < 10000 \n",
    "                                                     else (\"Mid_Range\" if 10000 <= x < 20000\n",
    "                                                           else \"Luxury\"))"
   ]
  },
  {
   "cell_type": "code",
   "execution_count": null,
   "id": "e72f9f44",
   "metadata": {},
   "outputs": [],
   "source": [
    "# So sánh phân bố giá theo các biến danh mục bằng boxplot\n",
    "plt.figure(figsize=(10, 20))\n",
    "plt.subplot(4,2,1)\n",
    "sns.boxplot(x = 'fueltype', y = 'price', data = data)\n",
    "plt.subplot(4,2,2)\n",
    "sns.boxplot(x = 'aspiration', y = 'price', data = data)\n",
    "plt.subplot(4,2,3)\n",
    "sns.boxplot(x = 'carbody', y = 'price', data = data)\n",
    "plt.subplot(4,2,4)\n",
    "sns.boxplot(x = 'drivewheel', y = 'price', data = data)\n",
    "plt.subplot(4,2,5)\n",
    "sns.boxplot(x = 'enginetype', y = 'price', data = data)\n",
    "plt.subplot(4,2,6)\n",
    "sns.boxplot(x = 'brand_category', y = 'price', data = data)\n",
    "plt.tight_layout()\n",
    "plt.show()"
   ]
  },
  {
   "cell_type": "code",
   "execution_count": null,
   "id": "f6ea9caa",
   "metadata": {},
   "outputs": [],
   "source": [
    "# Ma trận tương quan (chỉ numeric); sắp xếp mức độ tương quan với giá\n",
    "corr_matrix = data.corr(numeric_only=True)\n",
    "corr_matrix['price'].sort_values(ascending=False)"
   ]
  },
  {
   "cell_type": "code",
   "execution_count": null,
   "id": "4bd7328b",
   "metadata": {},
   "outputs": [],
   "source": [
    "# Pairplot để quan sát tương quan cặp và phân phối mỗi biến\n",
    "sns.pairplot(data)\n",
    "plt.show()"
   ]
  },
  {
   "cell_type": "code",
   "execution_count": null,
   "id": "3f0e7d62",
   "metadata": {},
   "outputs": [],
   "source": [
    "# Quan hệ tuyến tính gần đúng giữa dung tích động cơ/horsepower và giá\n",
    "fig, (ax1, ax2) = plt.subplots(figsize = (12,8), ncols=2,sharey=False)\n",
    "sns.scatterplot( x = data.enginesize, y = data.price,  ax=ax1)\n",
    "sns.regplot(x=data.enginesize, y=data.price, ax=ax1)\n",
    " \n",
    "sns.scatterplot(x = data.horsepower,y = data.price, ax=ax2)\n",
    "sns.regplot(x=data.horsepower, y=data.price, ax=ax2);\n"
   ]
  },
  {
   "cell_type": "code",
   "execution_count": null,
   "id": "aabf1a90",
   "metadata": {},
   "outputs": [],
   "source": [
    "# Cân nặng xe cũng có xu hướng tương quan với giá\n",
    "sns.regplot(x=data.curbweight, y=data.price, data=data)"
   ]
  },
  {
   "cell_type": "code",
   "execution_count": null,
   "id": "8500c03d",
   "metadata": {},
   "outputs": [],
   "source": [
    "# Residual plot để kiểm tra giả định tuyến tính/độ phân tán phần dư\n",
    "plt.subplots(figsize = (12,8))\n",
    "sns.residplot(x=data[\"enginesize\"], y=data[\"price\"])"
   ]
  },
  {
   "cell_type": "code",
   "execution_count": null,
   "id": "76bb049f",
   "metadata": {},
   "outputs": [],
   "source": [
    "# Hàm vẽ 3 đồ thị (histogram, QQ-plot, boxplot) để kiểm tra phân phối một biến\n",
    "def plotting_3_chart(data, feature):\n",
    "    import seaborn as sns\n",
    "    import matplotlib.pyplot as plt\n",
    "    import matplotlib.gridspec as gridspec\n",
    "    from scipy import stats\n",
    "    import matplotlib.style as style\n",
    "    style.use('fivethirtyeight')\n",
    "\n",
    "    fig = plt.figure(constrained_layout=True, figsize=(12,8))\n",
    "    grid = gridspec.GridSpec(ncols=3, nrows=3, figure=fig)\n",
    "\n",
    "    # Histogram\n",
    "    ax1 = fig.add_subplot(grid[0, :2])\n",
    "    ax1.set_title('Histogram')\n",
    "    sns.distplot(data.loc[:,feature], norm_hist=True, ax = ax1)\n",
    "\n",
    "    # QQ-plot\n",
    "    ax2 = fig.add_subplot(grid[1, :2])\n",
    "    ax2.set_title('QQ_plot')\n",
    "    stats.probplot(data.loc[:,feature], plot = ax2)\n",
    "\n",
    "    # Boxplot\n",
    "    ax3 = fig.add_subplot(grid[:, 2])\n",
    "    ax3.set_title('Box Plot')\n",
    "    sns.boxplot(data.loc[:,feature], orient='v', ax = ax3);\n",
    "    \n",
    "plotting_3_chart(data, 'price')"
   ]
  },
  {
   "cell_type": "code",
   "execution_count": null,
   "id": "356d0495",
   "metadata": {},
   "outputs": [],
   "source": [
    "# Lưu bản sao dữ liệu trước biến đổi để so sánh sau này\n",
    "previous_data = data.copy()"
   ]
  },
  {
   "cell_type": "code",
   "execution_count": null,
   "id": "e56390d2",
   "metadata": {},
   "outputs": [],
   "source": [
    "# Kiểm định độ chuẩn (D’Agostino-Pearson) cho biến giá hiện tại\n",
    "normaltest(data.price.values)"
   ]
  },
  {
   "cell_type": "code",
   "execution_count": null,
   "id": "a7b34c06",
   "metadata": {},
   "outputs": [],
   "source": [
    "# Biến đổi log để làm phân phối giá gần chuẩn hơn (giảm lệch phải)\n",
    "data['price'] = np.log(data['price'])\n",
    "plotting_3_chart(data, 'price')"
   ]
  },
  {
   "cell_type": "code",
   "execution_count": null,
   "id": "bfb16156",
   "metadata": {},
   "outputs": [],
   "source": [
    "# Kiểm định lại sau khi log-transform\n",
    "normaltest(data.price.values)"
   ]
  },
  {
   "cell_type": "code",
   "execution_count": null,
   "id": "14d8efe1",
   "metadata": {},
   "outputs": [],
   "source": [
    "# Thử Box-Cox transform (yêu cầu dữ liệu dương), rồi kiểm định chuẩn\n",
    "cp_result = boxcox(previous_data.price)\n",
    "boxcox_price = cp_result[0]\n",
    "\n",
    "normaltest(boxcox_price)"
   ]
  },
  {
   "cell_type": "code",
   "execution_count": null,
   "id": "06865a42",
   "metadata": {},
   "outputs": [],
   "source": [
    "# Heatmap tương quan tổng thể giữa các biến\n",
    "plt.figure(figsize = (30, 25))\n",
    "sns.heatmap(data.corr(), annot = True, cmap=\"YlGnBu\")\n",
    "plt.show()"
   ]
  },
  {
   "cell_type": "code",
   "execution_count": null,
   "id": "5b57ce0f",
   "metadata": {},
   "outputs": [],
   "source": [
    "# Chọn tập biến đầu vào + mục tiêu 'price' để mô hình hóa\n",
    "columns=['price', 'fueltype', 'aspiration','carbody', 'drivewheel','wheelbase', 'brand_category',\n",
    "                  'curbweight', 'enginetype', 'cylindernumber', 'enginesize', 'boreratio','horsepower', 'carlength','carwidth','citympg','highwaympg']\n",
    "\n",
    "selected = data[columns]\n",
    "selected.info()"
   ]
  },
  {
   "cell_type": "code",
   "execution_count": null,
   "id": "31fc2a43",
   "metadata": {},
   "outputs": [],
   "source": [
    "# Xác định các cột dạng danh mục (dtype=object)\n",
    "categorical_columns = [col for col in selected.columns if selected[col].dtype == 'object']  \n",
    "categorical_columns"
   ]
  },
  {
   "cell_type": "code",
   "execution_count": null,
   "id": "24e16cca",
   "metadata": {},
   "outputs": [],
   "source": [
    "# Các cột số = (tập cột đã chọn) trừ (các cột danh mục)\n",
    "numeric_columns=list(set(columns)-set(categorical_columns))\n",
    "numeric_columns"
   ]
  },
  {
   "cell_type": "code",
   "execution_count": null,
   "id": "52bc82f5",
   "metadata": {},
   "outputs": [],
   "source": [
    "# Tách đặc trưng X (mọi cột trừ mục tiêu 'price')\n",
    "X = selected.drop(\"price\", axis=1)\n",
    "X.head()\n"
   ]
  },
  {
   "cell_type": "code",
   "execution_count": null,
   "id": "8c218292",
   "metadata": {},
   "outputs": [],
   "source": [
    "# Biến mục tiêu y (giá đã được log-transform ở trên)\n",
    "y = selected[\"price\"].copy()\n",
    "y.head()"
   ]
  },
  {
   "cell_type": "code",
   "execution_count": null,
   "id": "c8cbe1aa",
   "metadata": {},
   "outputs": [],
   "source": [
    "# Xem tần suất các giá trị cho từng biến danh mục (giúp kiểm tra data hiếm)\n",
    "for column in  categorical_columns:\n",
    "    print(\"column name:\", column)\n",
    "    print(\"value_count:\")\n",
    "    print( X[column].value_counts())"
   ]
  },
  {
   "cell_type": "code",
   "execution_count": null,
   "id": "049b4009",
   "metadata": {},
   "outputs": [],
   "source": [
    "from sklearn.preprocessing import OneHotEncoder\n",
    "from sklearn.compose import ColumnTransformer"
   ]
  },
  {
   "cell_type": "code",
   "execution_count": null,
   "id": "0a074fe7",
   "metadata": {},
   "outputs": [],
   "source": [
    "# Mã hóa one-hot cho biến danh mục; các cột còn lại giữ nguyên (passthrough)\n",
    "one_hot = ColumnTransformer(transformers=[(\"one_hot\", OneHotEncoder(), categorical_columns) ],remainder=\"passthrough\")\n",
    "X=one_hot.fit_transform(X)\n",
    "# Sau bước này X trở thành mảng/ma trận (scipy.sparse hoặc ndarray)\n",
    "type(X)"
   ]
  },
  {
   "cell_type": "code",
   "execution_count": null,
   "id": "40781999",
   "metadata": {},
   "outputs": [],
   "source": [
    "# Lấy tên cột sau khi biến đổi để đặt tên DataFrame\n",
    "names=one_hot.get_feature_names_out()\n",
    "names"
   ]
  },
  {
   "cell_type": "code",
   "execution_count": null,
   "id": "061e067b",
   "metadata": {},
   "outputs": [],
   "source": [
    "# Làm gọn tên cột tạo bởi ColumnTransformer__ và OneHotEncoder_\n",
    "colunm_names=[name[name.find(\"_\")+1:] for name in  [name[name.find(\"__\")+2:] for name in names]]\n",
    "colunm_names"
   ]
  },
  {
   "cell_type": "code",
   "execution_count": null,
   "id": "7a6cd029",
   "metadata": {},
   "outputs": [],
   "source": [
    "# Tạo DataFrame từ ma trận đặc trưng đã mã hóa để dễ thao tác/xem cột\n",
    "df=pd.DataFrame(data=X,columns=colunm_names)\n",
    "# Có thể lưu ra CSV nếu cần\n",
    "#df.to_csv('cleaned_car_data.csv', index=False)"
   ]
  },
  {
   "cell_type": "code",
   "execution_count": null,
   "id": "966fa25b",
   "metadata": {},
   "outputs": [],
   "source": [
    "X_ = selected[categorical_columns+numeric_columns]\n",
    "\n",
    "X_numeric=X[numeric_columns].to_numpy()\n",
    "X_categorical=OneHotEncoder().fit_transform(X_[categorical_columns]).toarray()\n",
    "X_=np.concatenate((X_categorical,X_numeric), axis = 1)"
   ]
  },
  {
   "cell_type": "code",
   "execution_count": null,
   "id": "a0db3cd8",
   "metadata": {},
   "outputs": [],
   "source": [
    "# Hàm tạo biến giả cho một cột danh mục và nối vào DataFrame\n",
    "# Lưu ý: cần thụt lề đúng để Python hiểu khối lệnh\n",
    "\n",
    "def dummies(x, data):\n",
    "    temp = pd.get_dummies(data[x], drop_first=True)\n",
    "    data = pd.concat([data, temp], axis=1)\n",
    "    data.drop([x], axis=1, inplace=True)\n",
    "    return data\n",
    "\n",
    "# Bản sao dữ liệu để minh họa cách tự tạo dummies (không bắt buộc vì đã có OneHotEncoder ở trên)\n",
    "X_ = selected[categorical_columns + numeric_columns]\n",
    "\n",
    "# Xem nhanh các giá trị duy nhất của từng cột danh mục\n",
    "for column in categorical_columns:\n",
    "    print(pd.unique(data[column]))\n",
    "    # Biến đổi dummies cho từng cột (nếu muốn dùng cách thủ công)\n",
    "    X_ = dummies(column, X_)\n",
    "\n",
    "# X_ lúc này là DataFrame đã mã hóa dummies theo cách thủ công"
   ]
  },
  {
   "cell_type": "code",
   "execution_count": null,
   "id": "a90db4fe",
   "metadata": {},
   "outputs": [],
   "source": [
    "# Chia train/test để đánh giá tổng quát hóa\n",
    "from sklearn.model_selection import train_test_split"
   ]
  },
  {
   "cell_type": "code",
   "execution_count": null,
   "id": "c1e4ee5c",
   "metadata": {},
   "outputs": [],
   "source": [
    "# Tạo tập huấn luyện/kiểm tra (30% dữ liệu làm test)\n",
    "X_train, X_test, y_train, y_test = train_test_split( df, y, test_size=0.30, random_state=0)"
   ]
  },
  {
   "cell_type": "code",
   "execution_count": null,
   "id": "811adb85",
   "metadata": {},
   "outputs": [],
   "source": [
    "# Chuẩn hóa đặc trưng để mô hình tuyến tính ổn định hơn\n",
    "from sklearn.preprocessing import StandardScaler"
   ]
  },
  {
   "cell_type": "code",
   "execution_count": null,
   "id": "5a14d85b",
   "metadata": {},
   "outputs": [],
   "source": [
    "# Khởi tạo bộ chuẩn hóa theo z-score (mean=0, std=1)\n",
    "ss=StandardScaler()\n",
    "ss"
   ]
  },
  {
   "cell_type": "code",
   "execution_count": null,
   "id": "84e30d46",
   "metadata": {},
   "outputs": [],
   "source": [
    "# Fit trên train và biến đổi train; không dùng thông tin test khi fit\n",
    "X_train=ss.fit_transform(X_train)"
   ]
  },
  {
   "cell_type": "code",
   "execution_count": null,
   "id": "d19ca6cf",
   "metadata": {},
   "outputs": [],
   "source": [
    "# Huấn luyện mô hình hồi quy tuyến tính thường\n",
    "lm = LinearRegression()\n",
    "lm.fit(X_train,y_train)\n"
   ]
  },
  {
   "cell_type": "code",
   "execution_count": null,
   "id": "8cc6c9d9",
   "metadata": {},
   "outputs": [],
   "source": [
    "# Biến đổi test bằng scaler đã fit trên train, rồi dự đoán\n",
    "X_test=ss.transform(X_test)\n",
    "car_price_predictions = lm.predict(X_test)\n",
    "car_price_predictions"
   ]
  },
  {
   "cell_type": "code",
   "execution_count": null,
   "id": "86e1aa49",
   "metadata": {},
   "outputs": [],
   "source": [
    "# Sai số bình phương trung bình trên tập test (đơn vị: log-price)\n",
    "mse = mean_squared_error(y_test, car_price_predictions)\n",
    "mse"
   ]
  },
  {
   "cell_type": "code",
   "execution_count": null,
   "id": "175dd82b",
   "metadata": {},
   "outputs": [],
   "source": [
    "# R^2 trên tập test (giải thích phương sai)\n",
    "lm.score(X_test,y_test)"
   ]
  },
  {
   "cell_type": "code",
   "execution_count": null,
   "id": "a6466830",
   "metadata": {},
   "outputs": [],
   "source": [
    "from sklearn.metrics import r2_score "
   ]
  },
  {
   "cell_type": "code",
   "execution_count": null,
   "id": "4ce57de9",
   "metadata": {},
   "outputs": [],
   "source": [
    "# Tính R^2 bằng hàm r2_score (kết quả nên khớp với lm.score)\n",
    "r2_score(y_test,car_price_predictions)"
   ]
  },
  {
   "cell_type": "code",
   "execution_count": null,
   "id": "3dbc27be",
   "metadata": {},
   "outputs": [],
   "source": [
    "# Xây dựng pipeline: chuẩn hóa -> hồi quy tuyến tính\n",
    "steps=[('scaler', StandardScaler()), ('lm',  LinearRegression())]"
   ]
  },
  {
   "cell_type": "code",
   "execution_count": null,
   "id": "7afe465e",
   "metadata": {},
   "outputs": [],
   "source": [
    "# Khởi tạo đối tượng Pipeline\n",
    "pipe = Pipeline(steps=steps)"
   ]
  },
  {
   "cell_type": "code",
   "execution_count": null,
   "id": "07c5f600",
   "metadata": {},
   "outputs": [],
   "source": [
    "# Huấn luyện pipeline trên tập train (tự động fit scaler trước)\n",
    "pipe.fit(X_train,y_train)"
   ]
  },
  {
   "cell_type": "code",
   "execution_count": null,
   "id": "6dc4add3",
   "metadata": {},
   "outputs": [],
   "source": [
    "# Dự đoán và tính RMSE (đơn vị: log-price)\n",
    "car_price_predictions = pipe.predict(X_test)\n",
    "mse = mean_squared_error(y_test, car_price_predictions)\n",
    "rmse = np.sqrt(mse)\n",
    "rmse\n"
   ]
  },
  {
   "cell_type": "code",
   "execution_count": null,
   "id": "d1e5fb24",
   "metadata": {},
   "outputs": [],
   "source": [
    "# Lưu ý: thứ tự tham số r2_score là (y_true, y_pred)\n",
    "r2_score(y_test, car_price_predictions)"
   ]
  },
  {
   "cell_type": "code",
   "execution_count": null,
   "id": "20bb2953",
   "metadata": {},
   "outputs": [],
   "source": [
    "# Pipeline end-to-end: mã hóa danh mục -> chuẩn hóa -> hồi quy\n",
    "X = selected[categorical_columns+numeric_columns]\n",
    "one_hot = ColumnTransformer(transformers=[(\"one_hot\", OneHotEncoder(), categorical_columns) ],remainder=\"passthrough\")\n",
    "steps=[('one_hot',one_hot), ('scaler', StandardScaler()), ('lm',  LinearRegression())]\n",
    "\n",
    "pipe = Pipeline(steps=steps)\n",
    "pipe.fit(X,y)\n",
    "car_price_predictions=pipe.predict(X)\n",
    "# Sử dụng đúng thứ tự đối số: (y_true, y_pred)\n",
    "r2_score(y, car_price_predictions)"
   ]
  }
 ],
 "metadata": {
  "language_info": {
   "name": "python"
  }
 },
 "nbformat": 4,
 "nbformat_minor": 5
}
