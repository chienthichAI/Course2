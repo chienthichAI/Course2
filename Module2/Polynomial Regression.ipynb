{
 "cells": [
  {
   "cell_type": "code",
   "execution_count": null,
   "id": "52c4df7e",
   "metadata": {
    "vscode": {
     "languageId": "plaintext"
    }
   },
   "outputs": [],
   "source": [
    "# Cài đặt các thư viện cần thiết (bỏ qua nếu môi trường đã có)\n",
    "#!pip install -U scikit-learn\n",
    "%pip install tqdm\n",
    "%pip install pandas\n",
    "%pip install seaborn\n",
    "%pip install numpy\n"
   ]
  },
  {
   "cell_type": "code",
   "execution_count": null,
   "id": "f0b6121d",
   "metadata": {
    "vscode": {
     "languageId": "plaintext"
    }
   },
   "outputs": [],
   "source": [
    "# Tắt cảnh báo để output gọn gàng (cân nhắc bật lại khi cần debug)\n",
    "# Surpress warnings:\n",
    "def warn(*args, **kwargs):\n",
    "    pass\n",
    "import warnings\n",
    "warnings.warn = warn\n",
    "\n"
   ]
  },
  {
   "cell_type": "code",
   "execution_count": null,
   "id": "a160d094",
   "metadata": {
    "vscode": {
     "languageId": "plaintext"
    }
   },
   "outputs": [],
   "source": [
    "# Thư viện hiển thị tiến trình\n",
    "from tqdm import tqdm\n",
    "\n",
    "# Số học, dữ liệu, vẽ\n",
    "import numpy as np\n",
    "import pandas as pd\n",
    "from itertools import accumulate  # không dùng, có thể bỏ nếu muốn\n",
    "import matplotlib.pyplot as plt\n",
    "import seaborn as sns\n",
    "%matplotlib inline\n",
    "\n",
    "# Scikit-learn: tiền xử lý, mô hình, đánh giá, pipeline, tìm kiếm tham số\n",
    "from sklearn.model_selection import train_test_split\n",
    "from sklearn.linear_model import LinearRegression\n",
    "from sklearn.preprocessing import PolynomialFeatures\n",
    "from sklearn.metrics import r2_score, mean_squared_error\n",
    "from sklearn.preprocessing import StandardScaler, MinMaxScaler, scale\n",
    "from sklearn.feature_selection import SelectKBest, f_regression\n",
    "from sklearn.pipeline import Pipeline\n",
    "from sklearn.model_selection import GridSearchCV\n",
    "\n",
    "# Cấu hình hiển thị\n",
    "sns.set_context('notebook')\n",
    "sns.set_style('white')\n",
    "\n",
    "# Tắt cảnh báo không quan trọng\n",
    "def warn(*args, **kwargs):\n",
    "    pass\n",
    "import warnings\n",
    "warnings.warn = warn\n",
    "warnings.filterwarnings('ignore')"
   ]
  },
  {
   "cell_type": "code",
   "execution_count": null,
   "id": "2b2cbbd4",
   "metadata": {
    "vscode": {
     "languageId": "plaintext"
    }
   },
   "outputs": [],
   "source": [
    "# Hàm trợ giúp: tính và vẽ R^2 theo từng biến đơn lẻ cho một mô hình (fit 1-D)\n",
    "# Lưu ý: đoạn remove(\"three\") giả định có cột tên \"three\"; nếu không có sẽ lỗi\n",
    "# Có thể bỏ dòng đó hoặc thêm kiểm tra an toàn\n",
    "\n",
    "def get_R2_features(model,test=True): \n",
    "    features=list(X)\n",
    "    if \"three\" in features:\n",
    "        features.remove(\"three\")\n",
    "    \n",
    "    R_2_train=[]\n",
    "    R_2_test=[]\n",
    "\n",
    "    for feature in features:\n",
    "        model.fit(X_train[[feature]],y_train)\n",
    "        R_2_test.append(model.score(X_test[[feature]],y_test))\n",
    "        R_2_train.append(model.score(X_train[[feature]],y_train))\n",
    "        \n",
    "    plt.bar(features,R_2_train,label=\"Train\")\n",
    "    plt.bar(features,R_2_test,label=\"Test\")\n",
    "    plt.xticks(rotation=90)\n",
    "    plt.ylabel(\"$R^2$\")\n",
    "    plt.legend()\n",
    "    plt.show()\n",
    "    print(\"Training R^2 mean value {} Testing R^2 mean value {} \".format(str(np.mean(R_2_train)),str(np.mean(R_2_test))) )\n",
    "    print(\"Training R^2 max value {} Testing R^2 max value {} \".format(str(np.max(R_2_train)),str(np.max(R_2_test))) )"
   ]
  },
  {
   "cell_type": "code",
   "execution_count": null,
   "id": "4ed8392c",
   "metadata": {
    "vscode": {
     "languageId": "plaintext"
    }
   },
   "outputs": [],
   "source": [
    "def  plot_dis(y,yhat):\n",
    "    \n",
    "    plt.figure()\n",
    "    ax1 = sns.distplot(y, hist=False, color=\"r\", label=\"Actual Value\")\n",
    "    sns.distplot(yhat, hist=False, color=\"b\", label=\"Fitted Values\" , ax=ax1)\n",
    "    plt.legend()\n",
    "\n",
    "    plt.title('Actual vs Fitted Values')\n",
    "    plt.xlabel('Price (in dollars)')\n",
    "    plt.ylabel('Proportion of Cars')\n",
    "\n",
    "    plt.show()\n",
    "    plt.close()"
   ]
  },
  {
   "cell_type": "code",
   "execution_count": null,
   "id": "ac006eac",
   "metadata": {
    "vscode": {
     "languageId": "plaintext"
    }
   },
   "outputs": [],
   "source": [
    "# Hàm tải file trong môi trường Pyodide (bất đồng bộ)\n",
    "from pyodide.http import pyfetch\n",
    "\n",
    "async def download(url, filename):\n",
    "    response = await pyfetch(url)\n",
    "    if response.status == 200:\n",
    "        with open(filename, \"wb\") as f:\n",
    "            f.write(await response.bytes())"
   ]
  },
  {
   "cell_type": "code",
   "execution_count": null,
   "id": "d663ec86",
   "metadata": {
    "vscode": {
     "languageId": "plaintext"
    }
   },
   "outputs": [],
   "source": [
    "# Đường dẫn dữ liệu được mã hóa sẵn (đã one-hot)\n",
    "URL = 'https://cf-courses-data.s3.us.cloud-object-storage.appdomain.cloud/IBM-ML240EN-SkillsNetwork/labs/encoded_car_data.csv'\n",
    "\n",
    "# Nếu chạy local đã có file, có thể bỏ qua dòng dưới\n",
    "await download(URL, 'encoded_car_data.csv')\n",
    "\n",
    "# Đọc vào DataFrame\n",
    "data = pd.read_csv('encoded_car_data.csv')"
   ]
  },
  {
   "cell_type": "code",
   "execution_count": null,
   "id": "5e37fd8a",
   "metadata": {
    "vscode": {
     "languageId": "plaintext"
    }
   },
   "outputs": [],
   "source": [
    "# Kiểm tra thông tin cột và kiểu dữ liệu\n",
    "data.info()"
   ]
  },
  {
   "cell_type": "code",
   "execution_count": null,
   "id": "f6816bdf",
   "metadata": {
    "vscode": {
     "languageId": "plaintext"
    }
   },
   "outputs": [],
   "source": [
    "# Hồi quy bậc 2 giữa curbweight và price để quan sát xu hướng phi tuyến\n",
    "sns.lmplot(x = 'curbweight', y = 'price', data = data, order=2)"
   ]
  },
  {
   "cell_type": "code",
   "execution_count": null,
   "id": "98fc47c5",
   "metadata": {
    "vscode": {
     "languageId": "plaintext"
    }
   },
   "outputs": [],
   "source": [
    "# Hồi quy bậc 2 giữa carlength và price\n",
    "sns.lmplot(x = 'carlength', y = 'price', data = data, order=2)"
   ]
  },
  {
   "cell_type": "code",
   "execution_count": null,
   "metadata": {
    "vscode": {
     "languageId": "plaintext"
    }
   },
   "outputs": [],
   "source": [
    "# Hồi quy bậc 2 giữa horsepower và price\n",
    "sns.lmplot(x = 'horsepower', y = 'price', data = data, order=2)"
   ]
  },
  {
   "cell_type": "code",
   "execution_count": null,
   "id": "520d97f4",
   "metadata": {
    "vscode": {
     "languageId": "plaintext"
    }
   },
   "outputs": [],
   "source": [
    "# Tách đặc trưng X và mục tiêu y\n",
    "X = data.drop('price', axis=1)\n",
    "y = data.price"
   ]
  },
  {
   "cell_type": "code",
   "execution_count": null,
   "id": "bea52a91",
   "metadata": {
    "vscode": {
     "languageId": "plaintext"
    }
   },
   "outputs": [],
   "source": [
    "# Chia train/test với tỉ lệ 70/30, cố định seed để tái lập\n",
    "X_train, X_test, y_train, y_test = train_test_split(X,y, test_size=0.3, random_state=42)\n",
    "print(\"Number of test samples:\", X_test.shape[0])\n",
    "print(\"Number of training samples:\", X_train.shape[0])\n"
   ]
  },
  {
   "cell_type": "code",
   "execution_count": null,
   "id": "41d2ff40",
   "metadata": {
    "vscode": {
     "languageId": "plaintext"
    }
   },
   "outputs": [],
   "source": [
    "# Mô hình hồi quy tuyến tính baseline\n",
    "lm = LinearRegression()"
   ]
  },
  {
   "cell_type": "code",
   "execution_count": null,
   "id": "8e044670",
   "metadata": {
    "vscode": {
     "languageId": "plaintext"
    }
   },
   "outputs": [],
   "source": [
    "# Huấn luyện trên tập train\n",
    "lm.fit(X_train, y_train)"
   ]
  },
  {
   "cell_type": "code",
   "execution_count": null,
   "id": "8c303548",
   "metadata": {
    "vscode": {
     "languageId": "plaintext"
    }
   },
   "outputs": [],
   "source": [
    "# Dự đoán trên tập test\n",
    "predicted = lm.predict(X_test)"
   ]
  },
  {
   "cell_type": "code",
   "execution_count": null,
   "id": "7ce8b148",
   "metadata": {
    "vscode": {
     "languageId": "plaintext"
    }
   },
   "outputs": [],
   "source": [
    "# Đánh giá R^2 trên train và test để so sánh mức độ khớp\n",
    "print(\"R^2 on training  data \",lm.score(X_train, y_train))\n",
    "print(\"R^2 on testing data \",lm.score(X_test,y_test))"
   ]
  },
  {
   "cell_type": "code",
   "execution_count": null,
   "id": "4cb2e945",
   "metadata": {
    "vscode": {
     "languageId": "plaintext"
    }
   },
   "outputs": [],
   "source": [
    "# Phân phối thực tế vs dự đoán để kiểm tra sai lệch\n",
    "plot_dis(y_test,predicted)"
   ]
  },
  {
   "cell_type": "code",
   "execution_count": null,
   "id": "a6e71e86",
   "metadata": {
    "vscode": {
     "languageId": "plaintext"
    }
   },
   "outputs": [],
   "source": [
    "# Từ điển hệ số ước lượng theo từng biến\n",
    "{col:coef for col,coef in zip(X.columns, lm.coef_)}"
   ]
  },
  {
   "cell_type": "code",
   "execution_count": null,
   "id": "5e2f60c0",
   "metadata": {
    "vscode": {
     "languageId": "plaintext"
    }
   },
   "outputs": [],
   "source": [
    "# Biểu đồ độ lớn tuyệt đối của hệ số (bỏ 2 cột đầu nếu không cần)\n",
    "plt.bar(X.columns[2:],abs(lm.coef_[2:]))\n",
    "plt.xticks(rotation=90)\n",
    "plt.ylabel(\"$coefficients$\")\n",
    "plt.show()"
   ]
  },
  {
   "cell_type": "code",
   "execution_count": null,
   "id": "9b3d409e",
   "metadata": {
    "vscode": {
     "languageId": "plaintext"
    }
   },
   "outputs": [],
   "source": [
    "# Vẽ R^2 theo từng biến đơn lẻ trên train/test để so sánh sức mạnh dự báo\n",
    "get_R2_features(lm)"
   ]
  },
  {
   "cell_type": "code",
   "execution_count": null,
   "id": "ca8a541e",
   "metadata": {
    "vscode": {
     "languageId": "plaintext"
    }
   },
   "outputs": [],
   "source": [
    "# Pipeline có chuẩn hóa -> hồi quy tuyến tính\n",
    "pipe = Pipeline([('ss',StandardScaler() ),('lr', LinearRegression())])\n",
    "pipe.fit(X_train,y_train)\n",
    "print(\"R^2 on training  data \", pipe.score(X_train, y_train))\n",
    "print(\"R^2 on testing data \", pipe.score(X_test,y_test))\n",
    "predicted = pipe.predict(X_test)\n",
    "plot_dis(y_test,predicted)"
   ]
  },
  {
   "cell_type": "code",
   "execution_count": null,
   "id": "ef047c2c",
   "metadata": {
    "vscode": {
     "languageId": "plaintext"
    }
   },
   "outputs": [],
   "source": [
    "# So sánh R^2 từng biến khi dùng pipeline chuẩn hóa + LR\n",
    "pipe = Pipeline([('ss',StandardScaler() ),('lr', LinearRegression())])\n",
    "get_R2_features(pipe)"
   ]
  },
  {
   "cell_type": "code",
   "execution_count": null,
   "id": "93d5c3f0",
   "metadata": {
    "vscode": {
     "languageId": "plaintext"
    }
   },
   "outputs": [],
   "source": [
    "# Tạo đặc trưng đa thức bậc 2, bỏ hằng số (include_bias=False)\n",
    "poly_features = PolynomialFeatures(degree=2, include_bias=False)"
   ]
  },
  {
   "cell_type": "code",
   "execution_count": null,
   "id": "7d033a92",
   "metadata": {
    "vscode": {
     "languageId": "plaintext"
    }
   },
   "outputs": [],
   "source": [
    "# Biến đổi train/test sang không gian đa thức\n",
    "X_train_poly = poly_features.fit_transform(X_train)\n",
    "X_test_poly = poly_features.transform(X_test)"
   ]
  },
  {
   "cell_type": "code",
   "execution_count": null,
   "id": "8893d69a",
   "metadata": {
    "vscode": {
     "languageId": "plaintext"
    }
   },
   "outputs": [],
   "source": [
    "# Số chiều sau khi mở rộng đa thức\n",
    "print(X_train_poly.shape)\n"
   ]
  },
  {
   "cell_type": "code",
   "execution_count": null,
   "id": "a4879c96",
   "metadata": {
    "vscode": {
     "languageId": "plaintext"
    }
   },
   "outputs": [],
   "source": [
    "# Số chiều của tập test sau khi mở rộng\n",
    "print(X_test_poly.shape)"
   ]
  },
  {
   "cell_type": "code",
   "execution_count": null,
   "id": "66091bbc",
   "metadata": {
    "vscode": {
     "languageId": "plaintext"
    }
   },
   "outputs": [],
   "source": [
    "# Huấn luyện LinearRegression trên đặc trưng đa thức\n",
    "lm = LinearRegression()\n",
    "lm.fit(X_train_poly, y_train)"
   ]
  },
  {
   "cell_type": "code",
   "execution_count": null,
   "id": "b62f4ab2",
   "metadata": {
    "vscode": {
     "languageId": "plaintext"
    }
   },
   "outputs": [],
   "source": [
    "# Dự đoán trên train để đánh giá mức độ khớp\n",
    "predicted = lm.predict(X_train_poly)"
   ]
  },
  {
   "cell_type": "code",
   "execution_count": null,
   "id": "8fc6735d",
   "metadata": {
    "vscode": {
     "languageId": "plaintext"
    }
   },
   "outputs": [],
   "source": [
    "# So sánh R^2 train/test cho mô hình đa thức để phát hiện overfitting\n",
    "print(\"R^2 on training data:\", lm.score(X_train_poly, y_train))\n",
    "print(\"R^2 on testing data:\", lm.score(X_test_poly,y_test))"
   ]
  },
  {
   "cell_type": "code",
   "execution_count": null,
   "id": "2dfb144a",
   "metadata": {
    "vscode": {
     "languageId": "plaintext"
    }
   },
   "outputs": [],
   "source": [
    "# Định nghĩa pipeline: PolynomialFeatures -> LinearRegression\n",
    "Input=[ ('polynomial', PolynomialFeatures(include_bias=False,degree=2)), ('model', LinearRegression())]"
   ]
  },
  {
   "cell_type": "code",
   "execution_count": null,
   "id": "38032b94",
   "metadata": {
    "vscode": {
     "languageId": "plaintext"
    }
   },
   "outputs": [],
   "source": [
    "# Khởi tạo và huấn luyện pipeline đa thức\n",
    "pipe=Pipeline(Input)\n",
    "pipe.fit(X_train, y_train)"
   ]
  },
  {
   "cell_type": "code",
   "execution_count": null,
   "id": "b808f4c1",
   "metadata": {
    "vscode": {
     "languageId": "plaintext"
    }
   },
   "outputs": [],
   "source": [
    "# Đánh giá pipeline đa thức\n",
    "print(\"R^2 on training  data:\", pipe.score(X_train, y_train))\n",
    "print(\"R^2 on testing data:\", pipe.score(X_test,y_test))"
   ]
  },
  {
   "cell_type": "code",
   "execution_count": null,
   "id": "b6addb3c",
   "metadata": {
    "vscode": {
     "languageId": "plaintext"
    }
   },
   "outputs": [],
   "source": [
    "# R^2 từng biến khi dùng pipeline đa thức\n",
    "get_R2_features(pipe)"
   ]
  },
  {
   "cell_type": "code",
   "execution_count": null,
   "id": "93b7fdc1",
   "metadata": {
    "vscode": {
     "languageId": "plaintext"
    }
   },
   "outputs": [],
   "source": [
    "# Pipeline đa thức + chuẩn hóa + hồi quy\n",
    "Input=[ ('polynomial', PolynomialFeatures(include_bias=False,degree=2)), ('scaler', StandardScaler()),('model',LinearRegression() )]\n",
    "pipe=Pipeline(Input)"
   ]
  },
  {
   "cell_type": "code",
   "execution_count": null,
   "id": "144ebc9c",
   "metadata": {
    "vscode": {
     "languageId": "plaintext"
    }
   },
   "outputs": [],
   "source": [
    "# Lưới tham số: thử bậc đa thức 1-3\n",
    "param_grid = {\n",
    "    \"polynomial__degree\": [1, 2, 3],\n",
    "}"
   ]
  },
  {
   "cell_type": "code",
   "execution_count": null,
   "id": "887130cd",
   "metadata": {
    "vscode": {
     "languageId": "plaintext"
    }
   },
   "outputs": [],
   "source": [
    "# Cấu hình GridSearchCV (có thể tăng n_jobs để tận dụng đa lõi)\n",
    "search = GridSearchCV(pipe, param_grid, n_jobs=1)\n"
   ]
  },
  {
   "cell_type": "code",
   "execution_count": null,
   "id": "6c14a8e3",
   "metadata": {
    "vscode": {
     "languageId": "plaintext"
    }
   },
   "outputs": [],
   "source": [
    "# Fit pipeline trên train\n",
    "pipe.fit(X_train, y_train)"
   ]
  },
  {
   "cell_type": "code",
   "execution_count": null,
   "id": "a0667a2f",
   "metadata": {
    "vscode": {
     "languageId": "plaintext"
    }
   },
   "outputs": [],
   "source": [
    "# Lưu ý: thường sẽ fit trên train và đánh giá trên validation; ở đây demo dùng test\n",
    "search.fit(X_test, y_test)"
   ]
  },
  {
   "cell_type": "code",
   "execution_count": null,
   "id": "b0b1908e",
   "metadata": {
    "vscode": {
     "languageId": "plaintext"
    }
   },
   "outputs": [],
   "source": [
    "# Mô hình tốt nhất theo GridSearchCV\n",
    "best=search.best_estimator_\n",
    "best"
   ]
  },
  {
   "cell_type": "code",
   "execution_count": null,
   "id": "c0c7b873",
   "metadata": {
    "vscode": {
     "languageId": "plaintext"
    }
   },
   "outputs": [],
   "source": [
    "# Điểm R^2 của mô hình tốt nhất\n",
    "best.score(X_test,y_test)"
   ]
  },
  {
   "cell_type": "code",
   "execution_count": null,
   "id": "1722f78d",
   "metadata": {
    "vscode": {
     "languageId": "plaintext"
    }
   },
   "outputs": [],
   "source": [
    "# Phân phối thực tế vs dự đoán của mô hình tốt nhất\n",
    "predicted=best.predict(X_test)\n",
    "plot_dis(y_test,predicted)"
   ]
  },
  {
   "cell_type": "code",
   "execution_count": null,
   "metadata": {
    "vscode": {
     "languageId": "plaintext"
    }
   },
   "outputs": [],
   "source": [
    "# Tìm bậc đa thức tối ưu cho TỪNG biến đơn lẻ bằng GridSearchCV\n",
    "# Lưu ý: ví dụ này fit trên tập test cho nhanh; thực hành chuẩn nên fit trên train/validation\n",
    "features=list(X)\n",
    "\n",
    "R_2_train=[]\n",
    "R_2_test=[]\n",
    "\n",
    "for feature in features:\n",
    "    # Thử nhiều bậc đa thức và tùy chọn ràng buộc hệ số dương\n",
    "    param_grid = {\n",
    "        \"polynomial__degree\": [1, 2, 3, 4, 5],\n",
    "        \"model__positive\": [True, False]\n",
    "    }\n",
    "    Input=[('polynomial', PolynomialFeatures(include_bias=False, degree=2)),\n",
    "           ('model', LinearRegression())]\n",
    "    pipe=Pipeline(Input)\n",
    "    print(feature)\n",
    "    search = GridSearchCV(pipe, param_grid, n_jobs=2)\n",
    "    search.fit(X_test[[feature]], y_test)\n",
    "    best=search.best_estimator_\n",
    "\n",
    "    # Ghi nhận R^2 trên test và train cho biến đơn lẻ\n",
    "    R_2_test.append(best.score(X_test[[feature]], y_test))\n",
    "    R_2_train.append(best.score(X_train[[feature]], y_train))\n",
    "\n",
    "# Vẽ so sánh R^2 Train/Test theo từng biến\n",
    "plt.bar(features, R_2_train, label=\"Train\")\n",
    "plt.bar(features, R_2_test, label=\"Test\")\n",
    "plt.xticks(rotation=90)\n",
    "plt.ylabel(\"$R^2$\")\n",
    "plt.legend()\n",
    "plt.show()\n",
    "print(\"Training R^2 mean value {} Testing R^2 mean value {} \".format(str(np.mean(R_2_train)), str(np.mean(R_2_test))))\n",
    "print(\"Training R^2 max value {} Testing R^2 max value {} \".format(str(np.max(R_2_train)), str(np.max(R_2_test))))"
   ]
  }
 ],
 "metadata": {
  "language_info": {
   "name": "python"
  }
 },
 "nbformat": 4,
 "nbformat_minor": 5
}
